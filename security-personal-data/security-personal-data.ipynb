{
 "cells": [
  {
   "cell_type": "markdown",
   "metadata": {},
   "source": [
    "# Проект: Защита персональных данных клиентов"
   ]
  },
  {
   "cell_type": "markdown",
   "metadata": {},
   "source": [
    "## Описание проекта\n",
    "\n",
    "Нам нужно защитить данные клиентов страховой компании «Хоть потоп». Необходимо разработать такой метод преобразования данных, чтобы по ним было сложно восстановить персональную информацию. Корректность работы метода необходимо обосновать. При использовании метода качество моделей машинного обучения не должно ухудшаться."
   ]
  },
  {
   "cell_type": "markdown",
   "metadata": {},
   "source": [
    "## Описание данных\n",
    "\n",
    "Набор данных находится в файле `insurance.csv`.\n",
    "\n",
    "* **Признаки:** пол, возраст и зарплата застрахованного, количество членов его семьи.\n",
    "* **Целевой признак:** количество страховых выплат клиенту за последние 5 лет."
   ]
  },
  {
   "cell_type": "markdown",
   "metadata": {},
   "source": [
    "## Этапы выполнения проекта\n",
    "\n",
    "1. Сперва мы загрузим и изучим данные;\n",
    "2. Ответим на вопрос: изменится ли качество линейной регрессии при преобразовании данных.\n",
    "3. Предложим алгоритм преобразования данных для решения задачи\n",
    "4. Запрограммируем этот алгоритм. Проверим качество линейной регрессии из библиотеки *sklearn* с помощью метрики *R2* и сравним результаты до преобразования и после."
   ]
  },
  {
   "cell_type": "markdown",
   "metadata": {},
   "source": [
    "## Предварительные настройки"
   ]
  },
  {
   "cell_type": "code",
   "execution_count": 1,
   "metadata": {},
   "outputs": [],
   "source": [
    "# импортируем необходимые бибилиотеки\n",
    "import pandas as pd\n",
    "import numpy as np\n",
    "\n",
    "from matplotlib import pyplot as plt\n",
    "import seaborn as sns\n",
    "\n",
    "from sklearn.linear_model import LinearRegression\n",
    "from sklearn.model_selection import cross_val_score"
   ]
  },
  {
   "cell_type": "markdown",
   "metadata": {},
   "source": [
    "# Загрузка данных"
   ]
  },
  {
   "cell_type": "code",
   "execution_count": 2,
   "metadata": {},
   "outputs": [],
   "source": [
    "# загружаем данные\n",
    "data = pd.read_csv('insurance.csv')"
   ]
  },
  {
   "cell_type": "code",
   "execution_count": 3,
   "metadata": {},
   "outputs": [
    {
     "data": {
      "text/html": [
       "<div>\n",
       "<style scoped>\n",
       "    .dataframe tbody tr th:only-of-type {\n",
       "        vertical-align: middle;\n",
       "    }\n",
       "\n",
       "    .dataframe tbody tr th {\n",
       "        vertical-align: top;\n",
       "    }\n",
       "\n",
       "    .dataframe thead th {\n",
       "        text-align: right;\n",
       "    }\n",
       "</style>\n",
       "<table border=\"1\" class=\"dataframe\">\n",
       "  <thead>\n",
       "    <tr style=\"text-align: right;\">\n",
       "      <th></th>\n",
       "      <th>Пол</th>\n",
       "      <th>Возраст</th>\n",
       "      <th>Зарплата</th>\n",
       "      <th>Члены семьи</th>\n",
       "      <th>Страховые выплаты</th>\n",
       "    </tr>\n",
       "  </thead>\n",
       "  <tbody>\n",
       "    <tr>\n",
       "      <th>0</th>\n",
       "      <td>1</td>\n",
       "      <td>41.0</td>\n",
       "      <td>49600.0</td>\n",
       "      <td>1</td>\n",
       "      <td>0</td>\n",
       "    </tr>\n",
       "    <tr>\n",
       "      <th>1</th>\n",
       "      <td>0</td>\n",
       "      <td>46.0</td>\n",
       "      <td>38000.0</td>\n",
       "      <td>1</td>\n",
       "      <td>1</td>\n",
       "    </tr>\n",
       "    <tr>\n",
       "      <th>2</th>\n",
       "      <td>0</td>\n",
       "      <td>29.0</td>\n",
       "      <td>21000.0</td>\n",
       "      <td>0</td>\n",
       "      <td>0</td>\n",
       "    </tr>\n",
       "    <tr>\n",
       "      <th>3</th>\n",
       "      <td>0</td>\n",
       "      <td>21.0</td>\n",
       "      <td>41700.0</td>\n",
       "      <td>2</td>\n",
       "      <td>0</td>\n",
       "    </tr>\n",
       "    <tr>\n",
       "      <th>4</th>\n",
       "      <td>1</td>\n",
       "      <td>28.0</td>\n",
       "      <td>26100.0</td>\n",
       "      <td>0</td>\n",
       "      <td>0</td>\n",
       "    </tr>\n",
       "  </tbody>\n",
       "</table>\n",
       "</div>"
      ],
      "text/plain": [
       "   Пол  Возраст  Зарплата  Члены семьи  Страховые выплаты\n",
       "0    1     41.0   49600.0            1                  0\n",
       "1    0     46.0   38000.0            1                  1\n",
       "2    0     29.0   21000.0            0                  0\n",
       "3    0     21.0   41700.0            2                  0\n",
       "4    1     28.0   26100.0            0                  0"
      ]
     },
     "execution_count": 3,
     "metadata": {},
     "output_type": "execute_result"
    }
   ],
   "source": [
    "# проверяем данные\n",
    "data.head()"
   ]
  },
  {
   "cell_type": "code",
   "execution_count": 4,
   "metadata": {},
   "outputs": [
    {
     "name": "stdout",
     "output_type": "stream",
     "text": [
      "<class 'pandas.core.frame.DataFrame'>\n",
      "RangeIndex: 5000 entries, 0 to 4999\n",
      "Data columns (total 5 columns):\n",
      " #   Column             Non-Null Count  Dtype  \n",
      "---  ------             --------------  -----  \n",
      " 0   Пол                5000 non-null   int64  \n",
      " 1   Возраст            5000 non-null   float64\n",
      " 2   Зарплата           5000 non-null   float64\n",
      " 3   Члены семьи        5000 non-null   int64  \n",
      " 4   Страховые выплаты  5000 non-null   int64  \n",
      "dtypes: float64(2), int64(3)\n",
      "memory usage: 195.4 KB\n"
     ]
    }
   ],
   "source": [
    "# выводим общую информацию\n",
    "data.info()"
   ]
  },
  {
   "cell_type": "markdown",
   "metadata": {},
   "source": [
    "Данные загрузились без ошибок и имеют следующую структуру:\n",
    "\n",
    "* строки это наблюдаемые клиенты;\n",
    "* столбцы это признаки, описывающие клиента.\n",
    "\n",
    "Всего наблюдается $5000$ наблюдений, признаки соответствуют описанию данных. Имена признаков не соответствуют хорошему стилю. Пропущенные значения в данных отсутствуют.\n",
    "\n",
    "Взглянем на уникальные значения признаков *Пол, Члены семьи, Страховые выплаты*, а также на распределение признаков *Возраст* и *Зарплата*."
   ]
  },
  {
   "cell_type": "code",
   "execution_count": 5,
   "metadata": {},
   "outputs": [
    {
     "data": {
      "image/png": "[encoded data removed]",
      "text/plain": [
       "<Figure size 1200x400 with 3 Axes>"
      ]
     },
     "metadata": {},
     "output_type": "display_data"
    },
    {
     "data": {
      "image/png": "[encoded data removed]",
      "text/plain": [
       "<Figure size 1200x400 with 2 Axes>"
      ]
     },
     "metadata": {},
     "output_type": "display_data"
    }
   ],
   "source": [
    "# создаём фигуру\n",
    "fig, (ax_sex, ax_fam, ax_pay) = plt.subplots(1, 3, figsize=(12, 4))\n",
    "\n",
    "# рисуем графики первой фигуры\n",
    "sns.countplot(data=data, x='Пол', ax=ax_sex)\n",
    "sns.countplot(data=data, x='Члены семьи', ax=ax_fam)\n",
    "sns.countplot(data=data, x='Страховые выплаты', ax=ax_pay)\n",
    "\n",
    "# настраиваем первую фигуру\n",
    "fig.suptitle('Уникальные значения признаков')\n",
    "plt.tight_layout()\n",
    "\n",
    "# создаём вторую фигуру\n",
    "fig, (ax_age, ax_sal) = plt.subplots(1, 2, figsize=(12, 4))\n",
    "\n",
    "# рисуем графики второй фигуры\n",
    "sns.histplot(data=data, x='Возраст', ax=ax_age)\n",
    "sns.histplot(data=data, x='Зарплата', ax=ax_sal)\n",
    "\n",
    "# настраиваем вторую фигуру\n",
    "fig.suptitle('Распределение признаков')\n",
    "plt.tight_layout()"
   ]
  },
  {
   "cell_type": "markdown",
   "metadata": {},
   "source": [
    "Анализируя графики мы можем сделать следующие выводы:\n",
    "\n",
    "* Данные содержат практически одинаковое количество наблюдений разных *полов* (мужской и женский);\n",
    "* Количество *членов семьи* достигает до шести человек включительно. В основном у клиентов наблюдается от $1$ до $2$ человек в семье, а также $0$. Последнее означает, что клиент не имеет семьи;\n",
    "* Признак *Страховые выплаты* является целевым, дискретным. Уникальные значения достигают пяти выплат за последние $5$ лет. Большая часть наблюдений за этот срок не получала страховых выплат.\n",
    "* В распределении признаков *Возраст* и *Зарплата* не наблюдается каких-либо аномальных значений.\n",
    "\n",
    "Теперь проверим данные на дубликаты и исправим имена столбцов согласно хорошему стилю. "
   ]
  },
  {
   "cell_type": "code",
   "execution_count": 6,
   "metadata": {
    "scrolled": true
   },
   "outputs": [
    {
     "name": "stdout",
     "output_type": "stream",
     "text": [
      "Обнаружено дубликатов: 153\n"
     ]
    }
   ],
   "source": [
    "# проверяем наличие дубликатов\n",
    "print('Обнаружено дубликатов:', data.duplicated().sum())"
   ]
  },
  {
   "cell_type": "code",
   "execution_count": 7,
   "metadata": {},
   "outputs": [
    {
     "name": "stdout",
     "output_type": "stream",
     "text": [
      "Наличие дубликатов: 0\n",
      "Текущие имена столбцов: ['sex', 'age', 'salary', 'family', 'payments']\n"
     ]
    }
   ],
   "source": [
    "# удаляем дубликаты\n",
    "data = data.drop_duplicates().reset_index(drop=True)\n",
    "\n",
    "# переименовываем столбцы\n",
    "data = data.rename(columns={\n",
    "    'Пол': 'sex',\n",
    "    'Возраст': 'age',\n",
    "    'Зарплата': 'salary',\n",
    "    'Члены семьи': 'family',\n",
    "    'Страховые выплаты': 'payments'\n",
    "})\n",
    "\n",
    "# проверяем наличие дубликатов\n",
    "print('Наличие дубликатов:', data.duplicated().sum())\n",
    "# проверяем имена столбцов\n",
    "print('Текущие имена столбцов:', data.columns.tolist())"
   ]
  },
  {
   "cell_type": "markdown",
   "metadata": {},
   "source": [
    "## Умножение матриц"
   ]
  },
  {
   "cell_type": "markdown",
   "metadata": {},
   "source": [
    "В качестве метода преобразований данных мы будем использовать умножение матриц — матрицу признаков $X$ на случайную обратимую матрицу $P$. Но сперва мы должны проверить математически, изменится ли качество линейной регрессии в случаем преобразования или нет. Мы знаем, что предсказания вычисляются по сокращённой формуле:\n",
    "\n",
    "$$a = Xw$$\n",
    "\n",
    "где:\n",
    "\n",
    "* $a$ — вектор предсказанных значений,\n",
    "* $X$ — матрица признаков (нулевой столбец состоит из единиц),\n",
    "* $w$ — вектор весов линейной регрессии (нулевой элемент равен сдвигу $w_0$.\n",
    "\n",
    "Вектор весов вычисляется по следующей формуле:\n",
    "\n",
    "$$w = (X^T X)^{-1} X^T y$$\n",
    "\n",
    "где:\n",
    "\n",
    "* $y$ — вектор значений целевого признака.\n",
    "\n",
    "Обозначим преобразованные признаки как матрицу $X'$, которая является произведением матрицы признаков $X$ и случайной обратимой матрицы $P$:\n",
    "\n",
    "$$X' = XP$$\n",
    "\n",
    "В таком случае вектор весов для преобразованных признаком можно найти по формуле:\n",
    "\n",
    "$$w' = ((X')^T X')^{-1} (X')^T y$$\n",
    "\n",
    "или\n",
    "\n",
    "$$w' = ((XP)^T (XP))^{-1} (XP)^T y$$\n",
    "\n",
    "Для дальнейшего преобразвоания формулы нам понадобится ряд свойств:\n",
    "\n",
    "1. $(AB)^T=B^T A^T$\n",
    "2. $(AB)^{-1} = B^{-1} A^{-1}$\n",
    "3. $A A^{-1} = A^{-1} A = E$\n",
    "4. $AE = EA = A$\n",
    "\n",
    "Воспользуемся первым свойством: \n",
    "* раскроем $(XP)^T$ в примере $((XP)^T (XP))^{-1}$, и получим $(P^T X^T XP)^{-1}$; \n",
    "* также раскроем $(XP)^T$ в примере $(XP)^T y$, где мы получим $P^T X^T y$.\n",
    "\n",
    "В результате наша формула быдет выглядеть следующим образом:\n",
    "\n",
    "$$w' = (P^T X^T XP)^{-1} P^T X^T y$$\n",
    "\n",
    "Воспользуемся вторым свойством:\n",
    "* рассмотрим пример $(P^T X^T XP)^{-1}$. Пусть $A=P^T$, а $B=X^T XP$; \n",
    "* тогда $(P^T X^T XP)^{-1} = (X^T XP)^{-1} (P^T)^{-1}$, что в результате даст нам следующее:\n",
    "\n",
    "$$w' = (X^T XP)^{-1} (P^T)^{-1} P^T X^T y$$\n",
    "\n",
    "В формуле присутствуют обратная матрица $(P^T)^{-1}$ и её исходная матрица $P^T$. Воспользуемся третьим свойством:\n",
    "* при произведение двух таких матриц мы получим единичную матрицу $E$, то есть $(P^T)^{-1} P^T = E$; \n",
    "* согласно четвёртому свойству мы можем опустить единичную матрицу $E$, так как она не приносит каких-либо преобразований:  \n",
    "\n",
    "$$w' = (X^T XP)^{-1} (P^T)^{-1} P^T X^T y = (X^T XP)^{-1} E X^T y = (X^T XP)^{-1} X^T y$$\n",
    "\n",
    "\n",
    "Воспользуемся вторым свойством ещё раз: \n",
    "* пусть $A=X^T X$, а $B=P$; \n",
    "* тогда $(X^T XP)^{-1} = P^{-1} (X^T X)^{-1}$. \n",
    "\n",
    "В итоге мы получаем следующую формулу:\n",
    "\n",
    "$$w' = P^{-1} (X^T X)^{-1} X^T y$$\n",
    "\n",
    "где $(X^T X)^{-1} X^T y$ является вектором весов линейной регрессии $w$ для признаков без преобразования. Отсюда следует, что ветор весов для преобразованных признаков $w'$ есть произведение обратной случайной матрицы $P$ и вектора весов для признаков без преобразования $w$:\n",
    "\n",
    "$$w' = P^{-1} w$$\n",
    "\n",
    "Зная матрицу преобразованных признаков $X'$ и вектор весов для преобразованных признаков $w'$, мы можем найти формулу вектора предсказаных значений для преобразованных признаков:\n",
    "\n",
    "$$a' = X'w' = XP\\cdot P^{-1} w = XEw = Xw = a$$\n",
    "\n",
    "Данная формула доказывает, что векторы предсказанных значений для перобразованных и не преобразованных признаков будут равны. Исходя из этого при решении задачи обучения будут найдены одни и те же веса:\n",
    "\n",
    "$$w = \\arg\\min_w MSE(Xw, y)$$\n",
    "\n",
    "Это значит, что качество линейной регрессии не изменится при преобразовании признаков, при этом параметры линейной регресии $w$ в исходной задаче являются произведением этих же параметров на обратную случайную матрицу $P^{-1}$ в преобразованой задаче."
   ]
  },
  {
   "cell_type": "markdown",
   "metadata": {},
   "source": [
    "## Алгоритм преобразования"
   ]
  },
  {
   "cell_type": "markdown",
   "metadata": {},
   "source": [
    "Для преобразования данных мы будем умножать матрицу признаков $m\\times n$ на случайную матрицу $n \\times k$. В результате чего  значения каждого признака будут смещены в пространстве на некоторое значение матрицы. \n",
    "\n",
    "$$X' = X @ P$$\n",
    "\n",
    "Данное преобразвоание не повлияет на качество линейной регрессии, что было доказано на предыдущем этапе проекта. Таким образом мы деперсонализируем наши данные, предоставив некоторую защиту шифрованием.\n",
    "\n",
    "Важным условием преобразования является наличие обратной матрицы $P^{-1}$, чтобы оставалась возможность произвести обратный процесс шифрования данных. То есть случайная матрица $P$ должна быть обратимой. В таком случае дешифровать данные можно по формуле:\n",
    "\n",
    "$$X = X' @ P^{-1}$$\n",
    "\n",
    "Исходя из вышеописанного, алгоритм преобразования может выглядить следующим образом:\n",
    "\n",
    "1. Генерирование случайной матрицы, высота которой равна ширине матрицы признаков;\n",
    "2. Проверка случайной матрицы на обратимость. В случае если случайная матрица является необратимой, то алгоритм возвращается к первому шагу;\n",
    "3. Преобразование матрицы признаков согласно формуле;\n",
    "4. Получение преобразованных признаков и ключа дешифрования."
   ]
  },
  {
   "cell_type": "markdown",
   "metadata": {},
   "source": [
    "## Программирование и проверка алгоритма"
   ]
  },
  {
   "cell_type": "markdown",
   "metadata": {},
   "source": [
    "Запрограммируем алгоритм, применив матричные преобразования. Сгенерируем случайную матрицу `P` и ключ для дешифрования `key`, найдя обратную матрицу для `P`. Обратимость случайной матрицы мы проверим с помощью определителя: если он будет равен нулю (матрица является необратимой), то будет генерироваться новая случайная матрица до тех пор, пока условие перестанет выполняться. "
   ]
  },
  {
   "cell_type": "code",
   "execution_count": 8,
   "metadata": {},
   "outputs": [],
   "source": [
    "# объявляем функцию преобразования\n",
    "def encrypt_features(X):\n",
    "    '''\n",
    "    Функция шифрует значения признаков\n",
    "    путём произведения матрицы признаков\n",
    "    на случайную матрицу. При этом создаётся ключ \n",
    "    для дешифрования значений признаков.\n",
    "    \n",
    "    Параметры:\n",
    "    ----------\n",
    "    X : DataFrame\n",
    "        Датафрейм независимых признаков.\n",
    "    \n",
    "    Возвращает:\n",
    "    -----------\n",
    "    Функция возварщает кортеж\n",
    "    из зашифрованных значений признаков\n",
    "    и ключа для дешифрования.\n",
    "    '''\n",
    "    # получаем ширину матрицы признаков     \n",
    "    weight = X.shape[1]\n",
    "    # генерируем случайную матрицу для преобразования\n",
    "    P = np.random.normal(size=(weight, weight))\n",
    "    \n",
    "    # проверяем обратимость случайной матрицы:      \n",
    "    # пока определитель равен нулю\n",
    "    while np.linalg.det(P) == 0:\n",
    "        # генерируем новую случайную матрицу\n",
    "        P = np.random.normal(size=(weight, weight))\n",
    "        \n",
    "    # создаём ключ для дешифрования\n",
    "    key = np.linalg.inv(P)\n",
    "    # производим преобразование\n",
    "    X_tranformed = X.values @ P\n",
    "    \n",
    "    # возвращаем результат\n",
    "    return X_tranformed, key"
   ]
  },
  {
   "cell_type": "markdown",
   "metadata": {},
   "source": [
    "Далее разделим признаки на независимые и целевые, и преобразуем независимые признаки с помощью нашей функции."
   ]
  },
  {
   "cell_type": "code",
   "execution_count": 9,
   "metadata": {},
   "outputs": [
    {
     "data": {
      "text/html": [
       "<div>\n",
       "<style scoped>\n",
       "    .dataframe tbody tr th:only-of-type {\n",
       "        vertical-align: middle;\n",
       "    }\n",
       "\n",
       "    .dataframe tbody tr th {\n",
       "        vertical-align: top;\n",
       "    }\n",
       "\n",
       "    .dataframe thead th {\n",
       "        text-align: right;\n",
       "    }\n",
       "</style>\n",
       "<table border=\"1\" class=\"dataframe\">\n",
       "  <thead>\n",
       "    <tr style=\"text-align: right;\">\n",
       "      <th></th>\n",
       "      <th>0</th>\n",
       "      <th>1</th>\n",
       "      <th>2</th>\n",
       "      <th>3</th>\n",
       "    </tr>\n",
       "  </thead>\n",
       "  <tbody>\n",
       "    <tr>\n",
       "      <th>0</th>\n",
       "      <td>-38625.027404</td>\n",
       "      <td>-21324.553786</td>\n",
       "      <td>32427.583218</td>\n",
       "      <td>5758.625813</td>\n",
       "    </tr>\n",
       "    <tr>\n",
       "      <th>1</th>\n",
       "      <td>-29576.468562</td>\n",
       "      <td>-16319.445274</td>\n",
       "      <td>24847.541678</td>\n",
       "      <td>4408.218859</td>\n",
       "    </tr>\n",
       "    <tr>\n",
       "      <th>2</th>\n",
       "      <td>-16341.587251</td>\n",
       "      <td>-9014.264397</td>\n",
       "      <td>13731.538105</td>\n",
       "      <td>2434.805860</td>\n",
       "    </tr>\n",
       "    <tr>\n",
       "      <th>3</th>\n",
       "      <td>-32485.405296</td>\n",
       "      <td>-17944.278015</td>\n",
       "      <td>27262.320141</td>\n",
       "      <td>4846.133819</td>\n",
       "    </tr>\n",
       "    <tr>\n",
       "      <th>4</th>\n",
       "      <td>-20319.007943</td>\n",
       "      <td>-11213.493040</td>\n",
       "      <td>17063.858736</td>\n",
       "      <td>3027.988442</td>\n",
       "    </tr>\n",
       "  </tbody>\n",
       "</table>\n",
       "</div>"
      ],
      "text/plain": [
       "              0             1             2            3\n",
       "0 -38625.027404 -21324.553786  32427.583218  5758.625813\n",
       "1 -29576.468562 -16319.445274  24847.541678  4408.218859\n",
       "2 -16341.587251  -9014.264397  13731.538105  2434.805860\n",
       "3 -32485.405296 -17944.278015  27262.320141  4846.133819\n",
       "4 -20319.007943 -11213.493040  17063.858736  3027.988442"
      ]
     },
     "execution_count": 9,
     "metadata": {},
     "output_type": "execute_result"
    }
   ],
   "source": [
    "# разделяем признаки\n",
    "X = data.drop('payments', axis=1)\n",
    "y = data['payments']\n",
    "\n",
    "# применяем функцию шифрования\n",
    "X_transformed, key = encrypt_features(X)\n",
    "\n",
    "# проверяем результат преобразования\n",
    "pd.DataFrame(X_transformed).head()"
   ]
  },
  {
   "cell_type": "markdown",
   "metadata": {},
   "source": [
    "Мы получили преобразованные данные, по которым сложно восстановить персональную информацию без ключа дешифровки.\n",
    "\n",
    "Теперь обучим линейную регрессию на признаках и сравним качество модели на преобразованных признаках и признаках без преобразования с помощью кросс-валидации. Значение не должно отличаться более чем на $1\\%$.    "
   ]
  },
  {
   "cell_type": "code",
   "execution_count": 10,
   "metadata": {},
   "outputs": [
    {
     "name": "stdout",
     "output_type": "stream",
     "text": [
      "Качество модели на признаках без преобразования: 0.42779425802804977\n",
      "-------------------------------------------------------------------\n",
      "Качество модели на преобразованных признаках: 0.42779425802596505\n",
      "-------------------------------------------------------------------\n"
     ]
    }
   ],
   "source": [
    "# проверяем модели\n",
    "score_normal = cross_val_score(LinearRegression(), X, y)\n",
    "score_transform = cross_val_score(LinearRegression(), X_transformed, y)\n",
    "\n",
    "# выводим результаты на экран\n",
    "print('Качество модели на признаках без преобразования:', score_normal.mean())\n",
    "print('-' * 67)\n",
    "print('Качество модели на преобразованных признаках:', score_transform.mean())\n",
    "print('-' * 67)"
   ]
  },
  {
   "cell_type": "markdown",
   "metadata": {},
   "source": [
    "Качество моделей до преобразований и после не различается. Мы экспериментально подтвердили наше математическое доказательство. В заключении попробуем дешифровать преобразованные данные и сравнить их с исходными."
   ]
  },
  {
   "cell_type": "code",
   "execution_count": 11,
   "metadata": {},
   "outputs": [
    {
     "data": {
      "text/html": [
       "<div>\n",
       "<style scoped>\n",
       "    .dataframe tbody tr th:only-of-type {\n",
       "        vertical-align: middle;\n",
       "    }\n",
       "\n",
       "    .dataframe tbody tr th {\n",
       "        vertical-align: top;\n",
       "    }\n",
       "\n",
       "    .dataframe thead th {\n",
       "        text-align: right;\n",
       "    }\n",
       "</style>\n",
       "<table border=\"1\" class=\"dataframe\">\n",
       "  <thead>\n",
       "    <tr style=\"text-align: right;\">\n",
       "      <th></th>\n",
       "      <th>sex</th>\n",
       "      <th>age</th>\n",
       "      <th>salary</th>\n",
       "      <th>family</th>\n",
       "    </tr>\n",
       "  </thead>\n",
       "  <tbody>\n",
       "    <tr>\n",
       "      <th>0</th>\n",
       "      <td>1.0</td>\n",
       "      <td>41.0</td>\n",
       "      <td>49600.0</td>\n",
       "      <td>1.0</td>\n",
       "    </tr>\n",
       "    <tr>\n",
       "      <th>1</th>\n",
       "      <td>0.0</td>\n",
       "      <td>46.0</td>\n",
       "      <td>38000.0</td>\n",
       "      <td>1.0</td>\n",
       "    </tr>\n",
       "    <tr>\n",
       "      <th>2</th>\n",
       "      <td>0.0</td>\n",
       "      <td>29.0</td>\n",
       "      <td>21000.0</td>\n",
       "      <td>0.0</td>\n",
       "    </tr>\n",
       "    <tr>\n",
       "      <th>3</th>\n",
       "      <td>0.0</td>\n",
       "      <td>21.0</td>\n",
       "      <td>41700.0</td>\n",
       "      <td>2.0</td>\n",
       "    </tr>\n",
       "    <tr>\n",
       "      <th>4</th>\n",
       "      <td>1.0</td>\n",
       "      <td>28.0</td>\n",
       "      <td>26100.0</td>\n",
       "      <td>0.0</td>\n",
       "    </tr>\n",
       "  </tbody>\n",
       "</table>\n",
       "</div>"
      ],
      "text/plain": [
       "   sex   age   salary  family\n",
       "0  1.0  41.0  49600.0     1.0\n",
       "1  0.0  46.0  38000.0     1.0\n",
       "2  0.0  29.0  21000.0     0.0\n",
       "3  0.0  21.0  41700.0     2.0\n",
       "4  1.0  28.0  26100.0     0.0"
      ]
     },
     "metadata": {},
     "output_type": "display_data"
    },
    {
     "data": {
      "text/html": [
       "<div>\n",
       "<style scoped>\n",
       "    .dataframe tbody tr th:only-of-type {\n",
       "        vertical-align: middle;\n",
       "    }\n",
       "\n",
       "    .dataframe tbody tr th {\n",
       "        vertical-align: top;\n",
       "    }\n",
       "\n",
       "    .dataframe thead th {\n",
       "        text-align: right;\n",
       "    }\n",
       "</style>\n",
       "<table border=\"1\" class=\"dataframe\">\n",
       "  <thead>\n",
       "    <tr style=\"text-align: right;\">\n",
       "      <th></th>\n",
       "      <th>sex</th>\n",
       "      <th>age</th>\n",
       "      <th>salary</th>\n",
       "      <th>family</th>\n",
       "    </tr>\n",
       "  </thead>\n",
       "  <tbody>\n",
       "    <tr>\n",
       "      <th>0</th>\n",
       "      <td>1</td>\n",
       "      <td>41.0</td>\n",
       "      <td>49600.0</td>\n",
       "      <td>1</td>\n",
       "    </tr>\n",
       "    <tr>\n",
       "      <th>1</th>\n",
       "      <td>0</td>\n",
       "      <td>46.0</td>\n",
       "      <td>38000.0</td>\n",
       "      <td>1</td>\n",
       "    </tr>\n",
       "    <tr>\n",
       "      <th>2</th>\n",
       "      <td>0</td>\n",
       "      <td>29.0</td>\n",
       "      <td>21000.0</td>\n",
       "      <td>0</td>\n",
       "    </tr>\n",
       "    <tr>\n",
       "      <th>3</th>\n",
       "      <td>0</td>\n",
       "      <td>21.0</td>\n",
       "      <td>41700.0</td>\n",
       "      <td>2</td>\n",
       "    </tr>\n",
       "    <tr>\n",
       "      <th>4</th>\n",
       "      <td>1</td>\n",
       "      <td>28.0</td>\n",
       "      <td>26100.0</td>\n",
       "      <td>0</td>\n",
       "    </tr>\n",
       "  </tbody>\n",
       "</table>\n",
       "</div>"
      ],
      "text/plain": [
       "   sex   age   salary  family\n",
       "0    1  41.0  49600.0       1\n",
       "1    0  46.0  38000.0       1\n",
       "2    0  29.0  21000.0       0\n",
       "3    0  21.0  41700.0       2\n",
       "4    1  28.0  26100.0       0"
      ]
     },
     "metadata": {},
     "output_type": "display_data"
    }
   ],
   "source": [
    "# возвращаем данные к начальному виду\n",
    "X_decrypted = X_transformed @ key\n",
    "\n",
    "# проверяем результат и выводим исходные данные\n",
    "display(\n",
    "    pd.DataFrame(X_decrypted.round(), columns=X.columns).head(),\n",
    "    X.head()\n",
    ")"
   ]
  },
  {
   "cell_type": "markdown",
   "metadata": {},
   "source": [
    "Данные после дешифрования совпадают с исходными данными. Алгоритм шифрования и дефишрования работает корректно и готов к использованию."
   ]
  },
  {
   "cell_type": "markdown",
   "metadata": {},
   "source": [
    "# Общий вывод\n",
    "\n",
    "Целью данного проекта являлась разработка метода преобразования данных, чтобы по ним было сложно восстановить персональную информацию. Это необходимо для защиты персональных данных клиентов страховой компании «Хоть потоп». Нужно защитить данные таким образом, чтобы при преобразовании качество моделей машинного обучения не ухудшилось. Корректность работы метода необходимо было обосновать.\n",
    "\n",
    "Первым делом мы получили файл с данными, загрузили их и изучили. Удалось выяснить следующее:\n",
    "\n",
    "* строки в данных это наблюдаемые клиенты;\n",
    "* столбцы — это признаки, описывающие клиента.\n",
    "\n",
    "Всего наблюдается $5000$ наблюдений, признаки соответствуют следующему описанию:\n",
    "\n",
    "* Признаки: *пол, возраст* и *зарплата застрахованного, количество членов его семьи*;\n",
    "* Целевой признак: *количество страховых выплат* клиенту за последние 5 лет.\n",
    "\n",
    "Имена признаков не соответствуют хорошему стилю. Пропущенные значения в данных отсутствуют. Мы проанализировали признаки на графиках и выяснили следующее:\n",
    "\n",
    "* Данные содержат практически одинаковое количество наблюдений разных *полов* (мужской и женский);\n",
    "* *Количество членов семьи* достигает до шести человек включительно. В основном у клиентов наблюдается от $1$ до $2$ человек в семье, а также $0$. Последнее означает, что клиент не имеет семьи;\n",
    "* Признак *cтраховые выплаты* является целевым, дискретным. Уникальные значения достигают пяти выплат за последние $5$ лет. Большая часть наблюдений за этот срок не получала страховых выплат.\n",
    "* В распределении признаков *возраст* и *зарплата* не наблюдается каких-либо аномальных значений.\n",
    "\n",
    "Далее мы проверили данные на явные дубликаты. Было обнаружено 153 дублированных строки. Мы удалили эти дубликаты, а также переименовали столбцы согласно хорошему стилю написания.\n",
    "\n",
    "В качестве метода преобразований данных было выбрано умножение матрицы признаков на случайную обратимую матрицу. Мы математически доказали, что при использовании данного метода качество моделей не изменится — векторы предсказанных значений для перобразованных и не преобразованных признаков будут равны. \n",
    "\n",
    "Важным условием преобразования является наличие обратной матрицы преобразования, чтобы у нас оставалась возможность произвести обратный процесс шифрования данных. В этом случае мы должны шифрованные данные умножить на матрицу, обратную сгенерированной случайной.\n",
    "\n",
    "Мы выбрали следующий алгоритм преобразования:\n",
    "\n",
    "1. Сначала мы генерируем случайную матрицу, высота которой равна ширине матрицы признаков;\n",
    "2. Проверяем случайную матрицу на обратимость. В случае если случайная матрица является необратимой, то мы возвращается к первому шагу;\n",
    "3. Генерируем ключ дешифровки, найдя обратную матрицу случайной;\n",
    "4. Преобразовываем матрицу признаков, умножая её на сгенерированную матрицу;\n",
    "5. В случае дешифрования данных преобращзованные данные умножаем на матрицу, обратную сгенерированной.\n",
    "\n",
    "Мы запрограммировали алгоритм, применив матричные преобразования и применили его. В результате мы получили преобразованные данные, по которым сложно восстановить персональную информацию без ключа дешифровки.\n",
    "\n",
    "Далее мы обучили и проверили модели с помощью кросс-валидации на преобразованных данных и данных без преобразования. Качество моделей не различается, что подтверждает наше математическое доказательство. \n",
    "\n",
    "Для подтверждения корректности работы метода преобразования мы с помощью полученного ключа произвели процесс дешифрования данных и сравнили их с исходными. Различий не обнаружено, метод преобразования персональных данных реализован, проверен и готов к использованию. "
   ]
  }
 ],
 "metadata": {
  "kernelspec": {
   "display_name": "Python 3 (ipykernel)",
   "language": "python",
   "name": "python3"
  },
  "language_info": {
   "codemirror_mode": {
    "name": "ipython",
    "version": 3
   },
   "file_extension": ".py",
   "mimetype": "text/x-python",
   "name": "python",
   "nbconvert_exporter": "python",
   "pygments_lexer": "ipython3",
   "version": "3.10.13"
  },
  "toc": {
   "base_numbering": 1,
   "nav_menu": {},
   "number_sections": true,
   "sideBar": true,
   "skip_h1_title": true,
   "title_cell": "Содержание",
   "title_sidebar": "Contents",
   "toc_cell": true,
   "toc_position": {},
   "toc_section_display": true,
   "toc_window_display": true
  }
 },
 "nbformat": 4,
 "nbformat_minor": 2
}
